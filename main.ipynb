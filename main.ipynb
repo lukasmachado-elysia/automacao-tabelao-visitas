{
 "cells": [
  {
   "cell_type": "code",
   "execution_count": 5,
   "metadata": {},
   "outputs": [],
   "source": [
    "import pandas as pd\n",
    "import time\n",
    "from datetime import datetime, timedelta\n",
    "from dateutil import parser\n",
    "from requestZeev import request_Orquestra"
   ]
  },
  {
   "cell_type": "code",
   "execution_count": null,
   "metadata": {},
   "outputs": [],
   "source": [
    "tokenApi = ['enb4iHROSDegvkiZv17FxzISZ%2BZB%2FQxkSGweAsL8sB0%3D']\n",
    "url = \"https://elysia.zeev.it\"\n",
    "tipoUrl = \"/api/2/assignments\"\n",
    "\n",
    "# Periodo de selecao\n",
    "today = datetime.today().strftime(\"%Y-%m-%d\")\n",
    "periodo1 = \"2023-03-17\"\n",
    "periodo2 = \"2023-03-10\""
   ]
  },
  {
   "cell_type": "code",
   "execution_count": null,
   "metadata": {},
   "outputs": [],
   "source": [
    "def instances_Report_Orquestra(userToken:str, showFinishedInstanceTasks:bool=True, showPendingInstanceTasks:bool=False, activeInstances:bool=True, forceReq:bool=False, flowId:int=0, periodo:bool=False):\n",
    "    '''\n",
    "        Funcao\n",
    "        ------\n",
    "            Lista todas instâncias de solicitações que a pessoa relacionada ao token possui permissão de consultar de acordo com filtros.\n",
    "        \n",
    "        Parametros\n",
    "        ----------\n",
    "            userToken : str, (obrigatorio)\n",
    "                Token do usuario orquestra para solicitar a requisicao.\n",
    "            \n",
    "            Parametros de especial atencao:\n",
    "            -------------------------------\n",
    "\n",
    "            `showFinishedTasks` : boolean, (opcional)\n",
    "                Define se vai requisitar instancias fechadas das solicitacoes.\n",
    "            \n",
    "            `showPendingInstanceTasks` : boolean, (opcional)\n",
    "                Define se vai requisitar instancias abertas das solicitacoes.\n",
    "\n",
    "            * Se nao optar por `showPendingInstanceTasks` ou `showFinishedTasks`, sera necessario colocar o parametro `forceReq` como `True`.\\n\n",
    "            * Se `showPendingInstanceTasks` ou `showFinishedTasks` estiverem `True` o parametro `forceReq` eh alterado para `False`, mesmo se ele for passado pela funcao.\n",
    "            \n",
    "            forceReq : boolean, (opcional)\n",
    "                Este parametro limita a quantidade de solicitacoes por segundo.\n",
    "\n",
    "            activeInstances : boolean, (opcional)\n",
    "                Definir se a solicitacao esta `Finalizada` ou `Em andamento`.\n",
    "\n",
    "            flowId : str, (opcional)\n",
    "                Filtrar pelo id de instancia.\n",
    "            \n",
    "            periodo : boolean, (opcional)\n",
    "                Define se o periodo vai ser utilizado\n",
    "        Retorno \n",
    "        -------\n",
    "            Retorna um DataFrame(Pandas).\n",
    "            * Se erro, retorna -1.\n",
    "    '''\n",
    "    try:\n",
    "        # Filtro padrao - Solicitacoes Em andamento e com instancias Finalizadas\n",
    "        f = {\"startDateIntervalBegin\": \"2000-01-01T00:00:00\",\n",
    "                \"startDateIntervalEnd\": \"2030-12-31T23:59:59\",\n",
    "                \"showFinishedInstanceTasks\": showFinishedInstanceTasks, \n",
    "                \"showPendingInstanceTasks\": showPendingInstanceTasks,\n",
    "                \"active\": activeInstances}\n",
    "\n",
    "        # Filtro de ID para solicitacoes especificas\n",
    "        if flowId != 0: \n",
    "            f['flowId'] = flowId\n",
    "        \n",
    "        # Usar periodo de pesquisa\n",
    "        if periodo:\n",
    "            f['startDateIntervalBegin'] = '10-03-2023' + \"T00:00:00\"\n",
    "            f['startDateIntervalEnd'] = today + \"T23:59:59\"\n",
    "        \n",
    "        if showFinishedInstanceTasks == True | showPendingInstanceTasks == True:\n",
    "            forceReq = False\n",
    "            \n",
    "        lista = request_Orquestra(method='GET',\n",
    "                                    urlReq=url,\n",
    "                                    typeReq='/api/2/instances/report',\n",
    "                                    tokens=[userToken],\n",
    "                                    filters=f,\n",
    "                                    forceRequisition=forceReq)\n",
    "        df = pd.DataFrame(lista)\n",
    "        return df\n",
    "    except Exception as e:\n",
    "        print('--> Erro na funcao \\'instances_Report_Orquestra\\' <--')\n",
    "        return pd.DataFrame()"
   ]
  },
  {
   "cell_type": "code",
   "execution_count": null,
   "metadata": {},
   "outputs": [],
   "source": [
    "# ---- Inicio do codigo ----\n",
    "# Buscar o dados do fluxo \n",
    "# Numero do fluxo: 368\n",
    "instances_Report_Orquestra(tokenApi, True, True, True, flowId=368, periodo=True)"
   ]
  }
 ],
 "metadata": {
  "kernelspec": {
   "display_name": "virtualEnv",
   "language": "python",
   "name": "python3"
  },
  "language_info": {
   "codemirror_mode": {
    "name": "ipython",
    "version": 3
   },
   "file_extension": ".py",
   "mimetype": "text/x-python",
   "name": "python",
   "nbconvert_exporter": "python",
   "pygments_lexer": "ipython3",
   "version": "3.10.7"
  },
  "orig_nbformat": 4
 },
 "nbformat": 4,
 "nbformat_minor": 2
}
